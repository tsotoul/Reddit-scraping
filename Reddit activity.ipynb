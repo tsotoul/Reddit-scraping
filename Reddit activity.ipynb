{
 "cells": [
  {
   "cell_type": "markdown",
   "metadata": {},
   "source": [
    "# Social Media Activity (Reddit)\n",
    "## User details\n",
    "Personal Use Script = spPNYij_x7qb1Q\n",
    "Secret = \tFUTUrqVaEO1gXucRL5queHodJDA"
   ]
  },
  {
   "cell_type": "code",
   "execution_count": 1,
   "metadata": {},
   "outputs": [
    {
     "name": "stdout",
     "output_type": "stream",
     "text": [
      "1: The average score of the first 100 posts of the subreddit music is 51773.\n",
      "2: 100% of the first 100 posts of the subreddit music has score more than 100.\n",
      "3: The first 100 posts of the subreddit music have an average of 3018 comments.\n",
      "4: 23% of the first 100 posts of the subreddit music were gilded.\n"
     ]
    }
   ],
   "source": [
    "# Import the necessary libraries\n",
    "import praw\n",
    "import numpy as np\n",
    "import pandas as pd\n",
    "\n",
    "# Authenticate PRAW\n",
    "reddit = praw.Reddit(client_id='spPNYij_x7qb1Q',\\\n",
    "                     client_secret='FUTUrqVaEO1gXucRL5queHodJDA',\\\n",
    "                     user_agent='data-wrangling-app')\n",
    "\n",
    "#reddit.read_only (only used to check if authentication was successful)\n",
    "\n",
    "# Get the posts for the wanted category/subreddit (music) and create a list to store them (posts)\n",
    "category = 'music'\n",
    "posts =  list(reddit.subreddit(category).top(limit=100))\n",
    "\n",
    "#vars(posts[0]) (Only used to identify the required attributes)\n",
    "\n",
    "# Initialise empty lists for the attribute data and the counters\n",
    "score = []\n",
    "above_100 = 0\n",
    "comments = []\n",
    "gilded = []\n",
    "gilded_num = 0\n",
    "\n",
    "# Loop through the posts and append the data to the relevant lists and counters\n",
    "for item in posts:\n",
    "    score.append(item.score)\n",
    "    comments.append(item.num_comments)\n",
    "    gilded.append(item.gilded)\n",
    "    if item.score > 100: above_100 += 1\n",
    "    if item.gilded != 0: gilded_num += 1\n",
    "        \n",
    "# Print the required results\n",
    "print('1: The average score of the first 100 posts of the subreddit {} is {}.'.format(category, int(np.mean(score))))\n",
    "print('2: {}% of the first 100 posts of the subreddit {} has score more than 100.'.format(above_100, category))\n",
    "print('3: The first 100 posts of the subreddit {} have an average of {} comments.'.format(category, int(np.mean(comments))))\n",
    "print('4: {}% of the first 100 posts of the subreddit {} were gilded.'.format(gilded_num, category))"
   ]
  }
 ],
 "metadata": {
  "kernelspec": {
   "display_name": "Python 3",
   "language": "python",
   "name": "python3"
  },
  "language_info": {
   "codemirror_mode": {
    "name": "ipython",
    "version": 3
   },
   "file_extension": ".py",
   "mimetype": "text/x-python",
   "name": "python",
   "nbconvert_exporter": "python",
   "pygments_lexer": "ipython3",
   "version": "3.7.1"
  }
 },
 "nbformat": 4,
 "nbformat_minor": 2
}
